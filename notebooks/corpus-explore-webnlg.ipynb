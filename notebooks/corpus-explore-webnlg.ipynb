{
 "cells": [
  {
   "cell_type": "code",
   "execution_count": null,
   "metadata": {},
   "outputs": [],
   "source": [
    "import json\n",
    "import glob"
   ]
  },
  {
   "cell_type": "code",
   "execution_count": 5,
   "metadata": {},
   "outputs": [],
   "source": [
    "def show_ontology(ont_path):\n",
    "    with open(ont_path) as in_file:\n",
    "        data = json.load(in_file)\n",
    "        print(f\"Ontology: {data['title']}\")\n",
    "        cls_str = \"\\n\\t\".join([f\"{c['label']} ({c['qid']})\"  for c in data['concepts']])\n",
    "        rel_str = \"\\n\\t\".join([f\"{c['label']} ({c['pid']})\"  for c in data['relations']])\n",
    "        print(f\"Concepts:\\n\\t{cls_str}\")\n",
    "        print(f\"Relations:\\n\\t{rel_str}\")\n",
    "\n",
    "def load_jsonl(file_path):\n",
    "    content = list()\n",
    "    with open(file_path, 'r', encoding='utf-8') as file:\n",
    "        for line in file:\n",
    "            content.append(json.loads(line))\n",
    "    return content\n",
    "\n",
    "def load_valid_ids(dir_path):\n",
    "    all_lines = []\n",
    "    jsonl_files = glob.glob(dir_path + '/*.txt')\n",
    "    for file_path in sorted(jsonl_files):\n",
    "        with open(file_path, 'r', encoding='utf-8') as file:\n",
    "            lines = [line.strip() for line in file.readlines()]\n",
    "            all_lines.append(lines)\n",
    "    return all_lines\n",
    "\n",
    "def load_all_jsonl(dir_path):\n",
    "    jsonl_files = glob.glob(dir_path + '/*.jsonl')\n",
    "    content = list()\n",
    "    for file_path in jsonl_files:\n",
    "        content += load_jsonl(file_path)\n",
    "    return content\n",
    "\n",
    "def load_test_data(test_path_prefix):\n",
    "    test_data = load_all_jsonl(test_path_prefix)\n",
    "    test_data = {td[\"id\"]:td for td in test_data}\n",
    "    return test_data\n",
    "\n",
    "def load_prompts(prompt_path_prefix):\n",
    "    prompts = load_all_jsonl(prompt_path_prefix)\n",
    "    prompts = {p[\"id\"]:p for p in prompts}\n",
    "    return prompts\n",
    "\n",
    "def load_llm_ouputs(llm_output_prefix):\n",
    "    llm_ouputs = load_all_jsonl(llm_output_prefix)\n",
    "    llm_ouputs = {p[\"id\"]:p for p in llm_ouputs}\n",
    "    return llm_ouputs\n",
    "\n",
    "def print_llm_output(llm_output):\n",
    "    print(f\"Test ID: {llm_output['id']}\\n\")\n",
    "    print(f\"LLM Response:\\n\\n{llm_output['response']}\\n\")\n",
    "    print(f\"Triples:\")\n",
    "    for tr in llm_output['triples']:\n",
    "        print(f\"\\t{tr}\")\n",
    "\n"
   ]
  },
  {
   "cell_type": "markdown",
   "metadata": {},
   "source": [
    "## Ontologies"
   ]
  },
  {
   "cell_type": "code",
   "execution_count": 7,
   "metadata": {},
   "outputs": [],
   "source": [
    "ont_path_prefix = \"./data/dbpedia_webnlg/ontologies/\"\n",
    "ontologies = [\n",
    "\"1_writtenwork_ontology.json\",\n",
    "    \"2_airport_ontology.json\",\n",
    "    \"3_artist_ontology.json\",\n",
    "    \"4_film_ontology.json\",\n",
    "    \"5_monument_ontology.json\",\n",
    "    \"6_comicscharacter_ontology.json\",\n",
    "    \"7_scientist_ontology.json\",\n",
    "    \"8_astronaut_ontology.json\",\n",
    "    \"9_building_ontology.json\",\n",
    "    \"10_city_ontology.json\",\n",
    "    \"11_meanoftransportation_ontology.json\",\n",
    "    \"12_compan_ontologyy.json\",\n",
    "    \"13_celestialbody_ontology.json\",\n",
    "    \"14_musicalwork_ontology.json\",\n",
    "    \"15_athlete_ontology.json\",\n",
    "    \"16_university_ontology.json\",\n",
    "    \"17_sportsteam_ontology.json\",\n",
    "    \"18_politician_ontology.json\",\n",
    "    \"19_food_ontology.json\"\n",
    "]\n",
    "ontologies = [ont_path_prefix + ont for ont in ontologies]\n"
   ]
  },
  {
   "cell_type": "markdown",
   "metadata": {},
   "source": [
    "## Ontology content"
   ]
  },
  {
   "cell_type": "code",
   "execution_count": 8,
   "metadata": {},
   "outputs": [
    {
     "name": "stdout",
     "output_type": "stream",
     "text": [
      "Ontology: Airport Ontology\n",
      "Concepts:\n",
      "\tAirport (Airport)\n",
      "\tAircraft (Aircraft)\n",
      "\tRunwaySurfaceType (RunwaySurfaceType)\n",
      "\tAirport (Airport)\n",
      "\tCounty (County)\n",
      "\tCity (City)\n",
      "\tDemonym (Demonym)\n",
      "\tPlace (Place)\n",
      "\tBattle (Battle)\n",
      "\tCountry (Country)\n",
      "\tDivision (Division)\n",
      "\tLanguage (Language)\n",
      "\tParty (Party)\n",
      "\tClass (Class)\n",
      "Relations:\n",
      "\taircraftFighter (aircraftFighter)\n",
      "\taircraftHelicopter (aircraftHelicopter)\n",
      "\trunwayName (runwayName)\n",
      "\tareaCode (areaCode)\n",
      "\t3rdRunwaySurfaceType (3rdRunwaySurfaceType)\n",
      "\thubAirport (hubAirport)\n",
      "\televationAboveTheSeaLevelInMetres (elevationAboveTheSeaLevelInMetres)\n",
      "\tceremonialCounty (ceremonialCounty)\n",
      "\tcapital (capital)\n",
      "\trunwaySurfaceType (runwaySurfaceType)\n",
      "\theadquarter (headquarter)\n",
      "\tdemonym (demonym)\n",
      "\tpostalCode (postalCode)\n",
      "\tlocation (location)\n",
      "\towner (owner)\n",
      "\tregionServed (regionServed)\n",
      "\ttransportAircraft (transportAircraft)\n",
      "\torder (order)\n",
      "\tleaderTitle (leaderTitle)\n",
      "\tbattle (battle)\n",
      "\tcityServed (cityServed)\n",
      "\tleader (leader)\n",
      "\tcity (city)\n",
      "\tisPartOf (isPartOf)\n",
      "\ticaoLocationIdentifier (icaoLocationIdentifier)\n",
      "\televationAboveTheSeaLevel (elevationAboveTheSeaLevel)\n",
      "\t2ndRunwaySurfaceType (2ndRunwaySurfaceType)\n",
      "\tcountry (country)\n",
      "\tdivision (division)\n",
      "\tlargestCity (largestCity)\n",
      "\tlanguage (language)\n",
      "\trunwayLength (runwayLength)\n",
      "\toperatingOrganisation (operatingOrganisation)\n",
      "\tleaderParty (leaderParty)\n",
      "\tfoundedBy (foundedBy)\n",
      "\tclass (class)\n",
      "\t1stRunwaySurfaceType (1stRunwaySurfaceType)\n",
      "\tfoundingYear (foundingYear)\n",
      "\tofficialLanguage (officialLanguage)\n"
     ]
    }
   ],
   "source": [
    "show_ontology(ontologies[1])"
   ]
  },
  {
   "cell_type": "markdown",
   "metadata": {},
   "source": [
    "# Test Sentences"
   ]
  },
  {
   "cell_type": "code",
   "execution_count": null,
   "metadata": {},
   "outputs": [],
   "source": [
    "test_path_prefix = \"./data/dbpedia_webnlg/test/\"\n",
    "test_data = load_test_data(test_path_prefix)\n",
    "\n",
    "valid_ids_prefix = \"./data/dbpedia_webnlg/ground_truth/\"\n",
    "valid_ids = load_valid_ids(valid_ids_prefix)"
   ]
  },
  {
   "cell_type": "code",
   "execution_count": null,
   "metadata": {},
   "outputs": [],
   "source": [
    "# [2][10]  [3][1]  [4][6] [5][3]\n",
    "\n",
    "test_id = valid_ids[5][3]\n",
    "test_data[test_id]\n"
   ]
  },
  {
   "cell_type": "markdown",
   "metadata": {},
   "source": [
    "# LLM Prompts"
   ]
  },
  {
   "cell_type": "code",
   "execution_count": null,
   "metadata": {},
   "outputs": [],
   "source": [
    "prompt_path_prefix = \"./data/dbpedia_webnlg/prompts/\"\n",
    "prompts = load_prompts(prompt_path_prefix)"
   ]
  },
  {
   "cell_type": "code",
   "execution_count": null,
   "metadata": {},
   "outputs": [],
   "source": [
    "test_prompt = prompts[test_id]\n",
    "print(f\"Test ID: {test_prompt['id']}\")\n",
    "print(f\"Prompt: {test_prompt['prompt']}\")"
   ]
  },
  {
   "cell_type": "markdown",
   "metadata": {},
   "source": [
    "# LLL Output"
   ]
  },
  {
   "cell_type": "code",
   "execution_count": null,
   "metadata": {},
   "outputs": [],
   "source": [
    "vicuna_output_prefix =  \"./data/dbpedia_webnlg/baselines/Vicuna-13B/llm_responses/\"\n",
    "vicuna_outputs = load_llm_ouputs(vicuna_output_prefix)\n",
    "\n",
    "alpaca_lora_output_prefix =  \"./data/dbpedia_webnlg/baselines/Alpaca-LoRA-13B/llm_responses/\"\n",
    "alpaca_lora_outputs = load_llm_ouputs(alpaca_lora_output_prefix)\n"
   ]
  },
  {
   "cell_type": "code",
   "execution_count": null,
   "metadata": {},
   "outputs": [],
   "source": [
    "print(\"Vicuna-13B\")\n",
    "print_llm_output(vicuna_outputs[test_id])"
   ]
  },
  {
   "cell_type": "code",
   "execution_count": null,
   "metadata": {},
   "outputs": [],
   "source": [
    "print(\"Alpaca-LoRA-13B\")\n",
    "print_llm_output(alpaca_lora_outputs[test_id])"
   ]
  }
 ],
 "metadata": {
  "kernelspec": {
   "display_name": "kgbench",
   "language": "python",
   "name": "python3"
  },
  "language_info": {
   "codemirror_mode": {
    "name": "ipython",
    "version": 3
   },
   "file_extension": ".py",
   "mimetype": "text/x-python",
   "name": "python",
   "nbconvert_exporter": "python",
   "pygments_lexer": "ipython3",
   "version": "3.12.8"
  }
 },
 "nbformat": 4,
 "nbformat_minor": 2
}
